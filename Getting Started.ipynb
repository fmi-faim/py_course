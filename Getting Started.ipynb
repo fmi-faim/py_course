{
 "cells": [
  {
   "cell_type": "markdown",
   "id": "720c8d2c-0951-4a47-87ec-586ad87e1b9d",
   "metadata": {
    "tags": []
   },
   "source": [
    "# The JupyterLab Interface\n",
    "\n",
    "The JupyterLab interface consists of a main work area containing tabs of documents and activities, a collapsible left sidebar, and a menu bar. The left sidebar contains a file browser, the list of running terminals and kernels, the table of contents, and the extension manager.\n",
    "\n",
    "![jupyter_lab_startup_page](figures/jupyter_lab_startup.png)\n",
    "\n",
    "JupyterLab sessions always reside in a workspace. Workspaces contain the state of JupyterLab: the files that are currently open, the layout of the application areas and tabs, etc.\n",
    "\n",
    "Reference: [https://jupyterlab.readthedocs.io/en/latest/user/interface.html](https://jupyterlab.readthedocs.io/en/latest/user/interface.html)"
   ]
  },
  {
   "cell_type": "markdown",
   "id": "3e460b72-3401-4920-9753-fcac52409fd7",
   "metadata": {
    "tags": []
   },
   "source": [
    "# Notebook\n",
    "\n",
    "Currently you are looking at a Jupyter Notebook. A Jupyter Notebook is an interactive environment for writing and running ocde. The notebook is capable of running code in a wide range of languages. However, each notebook is associated with a single kernel. This notebook is associated with the IPython kernel, therefore it runs Python code.\n",
    "\n",
    "Reference: [https://github.com/jupyter/notebook/blob/6.1.x/docs/source/examples/Notebook/Running%20Code.ipynb](https://github.com/jupyter/notebook/blob/6.1.x/docs/source/examples/Notebook/Running%20Code.ipynb)"
   ]
  },
  {
   "cell_type": "markdown",
   "id": "c0be6e2a-c9d1-4b2e-91b2-bfb7ec7cc5cf",
   "metadata": {},
   "source": [
    "## Notebook Cell Types\n",
    "In a Jupyter Notebook we can have text cells and code cells. \n",
    "In text cells we can write markdown ([Markdown cheat sheet](https://www.markdownguide.org/cheat-sheet/)).\n",
    "In code cells we can write program code which is executed by the IPython kernel associated with the notebook.\n",
    "\n",
    "Code cells have brackets `[ ]:` in front of them:\n",
    "* `[ ]:` means that the cell is empty.\n",
    "* `[*]:` means that the cell is currently being executed.\n",
    "* `[1]:` here the number indicates the execution step in the notebook. This execution step is updated everytime the cell is executed.\n",
    "\n",
    "To render a text cell or execute a code cell you can press the run button in the toolbar above or press `Shift-Enter` on your keyboard."
   ]
  },
  {
   "cell_type": "code",
   "execution_count": 1,
   "id": "ae4edd18-5132-448f-b268-f31865ba39d2",
   "metadata": {},
   "outputs": [
    {
     "data": {
      "text/plain": [
       "4"
      ]
     },
     "execution_count": 1,
     "metadata": {},
     "output_type": "execute_result"
    }
   ],
   "source": [
    "2 + 2"
   ]
  },
  {
   "cell_type": "code",
   "execution_count": 2,
   "id": "ab396cdb-ee60-4d0c-86f3-6756d1173d1b",
   "metadata": {},
   "outputs": [],
   "source": [
    "# If we want to write text in a code cell we have to comment it out with '#'.\n",
    "\n",
    "# Next we asign some variables.\n",
    "a = 2\n",
    "b = 2\n",
    "c = a + b"
   ]
  },
  {
   "cell_type": "code",
   "execution_count": 3,
   "id": "819f0f15-8042-40d0-aaf6-bacc8f9ab215",
   "metadata": {},
   "outputs": [
    {
     "name": "stdout",
     "output_type": "stream",
     "text": [
      "a is 2\n",
      "b is 2\n",
      "a + b = 4\n"
     ]
    }
   ],
   "source": [
    "print(\"a is\", a)\n",
    "print(\"b is\", b)\n",
    "print(\"a + b =\", c)"
   ]
  },
  {
   "cell_type": "markdown",
   "id": "e5c03451-a5e1-4bb0-8d0e-344b6d67e144",
   "metadata": {},
   "source": [
    "# Python Basics"
   ]
  },
  {
   "cell_type": "markdown",
   "id": "2494fe72-1d31-4eb1-9f91-ab790463aba8",
   "metadata": {},
   "source": [
    "## If Statement\n",
    "The if statement allows us to branch code and act on different conditions.\n",
    "The statement has the following logic:\n",
    "```\n",
    "if condition_0:\n",
    "    code_0\n",
    "elif condition_1:\n",
    "    code_1\n",
    "else:\n",
    "    code_2\n",
    "```\n",
    "`code_0` is executed if `condition_0` holds true. If `condition_0` is false `condition_1` is evaluated and `code_1` is executed if `condition_1` is true. If both conditions evaluate to false `code_2` is executed. \n",
    "\n",
    "__Note:__ `elif` and `else` are optional.\n"
   ]
  },
  {
   "cell_type": "code",
   "execution_count": 4,
   "id": "56367682-b037-470d-96ea-eae883fd0061",
   "metadata": {},
   "outputs": [
    {
     "name": "stdout",
     "output_type": "stream",
     "text": [
      "3 is a positive number.\n",
      "Done\n"
     ]
    }
   ],
   "source": [
    "# Assign value to number\n",
    "number = 3\n",
    "\n",
    "# Test if the number is negative, zero or positive\n",
    "if number < 0:\n",
    "    print(\"{} is a negative number.\".format(number))\n",
    "elif number == 0:\n",
    "    print(\"The number is zero.\")\n",
    "else:\n",
    "    print(\"{} is a positive number.\".format(number))\n",
    "\n",
    "# The following code is outside of the if statement and always executed.\n",
    "print(\"Done\")"
   ]
  },
  {
   "cell_type": "markdown",
   "id": "db871008-3a43-42ee-9f2c-551b87c4a492",
   "metadata": {},
   "source": [
    "## Functions\n",
    "In Python we can define functions which can be reused in our code. It is good practice to define a function if we want to reuse the same code multiple times!"
   ]
  },
  {
   "cell_type": "code",
   "execution_count": 5,
   "id": "f2624b4e-7164-4e1b-9370-5045632e7395",
   "metadata": {},
   "outputs": [],
   "source": [
    "def categorize_number(number):\n",
    "    \"\"\"\n",
    "    Prints to standard output if the number is negative, zero or positive.\n",
    "    \n",
    "    Parameter:\n",
    "    ----------\n",
    "    number: The number to categorize.\n",
    "    \"\"\"\n",
    "    if number < 0:\n",
    "        print(\"{} is a negative number.\".format(number))\n",
    "    elif number == 0:\n",
    "        print(\"The number is zero.\")\n",
    "    else:\n",
    "        print(\"{} is a positive number.\".format(number))"
   ]
  },
  {
   "cell_type": "code",
   "execution_count": 6,
   "id": "9a1e138c-f28a-4df6-a55c-f172949c8cfa",
   "metadata": {},
   "outputs": [
    {
     "name": "stdout",
     "output_type": "stream",
     "text": [
      "-2 is a negative number.\n"
     ]
    }
   ],
   "source": [
    "categorize_number(number=-2)"
   ]
  },
  {
   "cell_type": "markdown",
   "id": "902ca4c9-9163-4fd7-bb79-f2ad57eb671f",
   "metadata": {},
   "source": [
    "## Lists\n",
    "In python we can easily define a list."
   ]
  },
  {
   "cell_type": "code",
   "execution_count": 7,
   "id": "b1ebf4e1-a78f-45aa-ae5e-98d54b92dea6",
   "metadata": {},
   "outputs": [],
   "source": [
    "numbers = [-1, 0, 1, 2]"
   ]
  },
  {
   "cell_type": "code",
   "execution_count": 8,
   "id": "a0b36d98-b3fa-456e-8955-08e5242d1f4e",
   "metadata": {},
   "outputs": [
    {
     "data": {
      "text/plain": [
       "list"
      ]
     },
     "execution_count": 8,
     "metadata": {},
     "output_type": "execute_result"
    }
   ],
   "source": [
    "type(numbers)"
   ]
  },
  {
   "cell_type": "markdown",
   "id": "18f4ea33-e018-4fcb-8b2e-84cf9a1a5650",
   "metadata": {},
   "source": [
    "## For Loop\n",
    "If we want to apply some code (e.g. a function) to all elements of a list we can use a for loop."
   ]
  },
  {
   "cell_type": "code",
   "execution_count": 9,
   "id": "4df4c680-74f6-4e33-816b-50682502574e",
   "metadata": {},
   "outputs": [
    {
     "name": "stdout",
     "output_type": "stream",
     "text": [
      "Currently processing number = -1.\n",
      "-1 is a negative number.\n",
      "Currently processing number = 0.\n",
      "The number is zero.\n",
      "Currently processing number = 1.\n",
      "1 is a positive number.\n",
      "Currently processing number = 2.\n",
      "2 is a positive number.\n"
     ]
    }
   ],
   "source": [
    "for number in numbers:\n",
    "    print(\"Currently processing number = {}.\".format(number))\n",
    "    categorize_number(number)"
   ]
  },
  {
   "cell_type": "markdown",
   "id": "596eb2fa-82a1-4bac-9ed8-8631bdd8979b",
   "metadata": {},
   "source": [
    "## Range\n",
    "A typical usecase is that we want to get all numbers from 0 up to a given number e.g. 100. Luckely we don't have to type all 100 numbers into a list to iterate over them. We can just use the `range`-function which is part of Python."
   ]
  },
  {
   "cell_type": "code",
   "execution_count": 10,
   "id": "1c6cc72e-6d4a-4348-9ae3-631e8a04dd62",
   "metadata": {
    "scrolled": true,
    "tags": []
   },
   "outputs": [
    {
     "name": "stdout",
     "output_type": "stream",
     "text": [
      "The number is zero.\n",
      "1 is a positive number.\n",
      "2 is a positive number.\n",
      "3 is a positive number.\n",
      "4 is a positive number.\n",
      "5 is a positive number.\n",
      "6 is a positive number.\n",
      "7 is a positive number.\n",
      "8 is a positive number.\n",
      "9 is a positive number.\n",
      "10 is a positive number.\n",
      "11 is a positive number.\n",
      "12 is a positive number.\n",
      "13 is a positive number.\n",
      "14 is a positive number.\n",
      "15 is a positive number.\n",
      "16 is a positive number.\n",
      "17 is a positive number.\n",
      "18 is a positive number.\n",
      "19 is a positive number.\n",
      "20 is a positive number.\n",
      "21 is a positive number.\n",
      "22 is a positive number.\n",
      "23 is a positive number.\n",
      "24 is a positive number.\n",
      "25 is a positive number.\n",
      "26 is a positive number.\n",
      "27 is a positive number.\n",
      "28 is a positive number.\n",
      "29 is a positive number.\n",
      "30 is a positive number.\n",
      "31 is a positive number.\n",
      "32 is a positive number.\n",
      "33 is a positive number.\n",
      "34 is a positive number.\n",
      "35 is a positive number.\n",
      "36 is a positive number.\n",
      "37 is a positive number.\n",
      "38 is a positive number.\n",
      "39 is a positive number.\n",
      "40 is a positive number.\n",
      "41 is a positive number.\n",
      "42 is a positive number.\n",
      "43 is a positive number.\n",
      "44 is a positive number.\n",
      "45 is a positive number.\n",
      "46 is a positive number.\n",
      "47 is a positive number.\n",
      "48 is a positive number.\n",
      "49 is a positive number.\n",
      "50 is a positive number.\n",
      "51 is a positive number.\n",
      "52 is a positive number.\n",
      "53 is a positive number.\n",
      "54 is a positive number.\n",
      "55 is a positive number.\n",
      "56 is a positive number.\n",
      "57 is a positive number.\n",
      "58 is a positive number.\n",
      "59 is a positive number.\n",
      "60 is a positive number.\n",
      "61 is a positive number.\n",
      "62 is a positive number.\n",
      "63 is a positive number.\n",
      "64 is a positive number.\n",
      "65 is a positive number.\n",
      "66 is a positive number.\n",
      "67 is a positive number.\n",
      "68 is a positive number.\n",
      "69 is a positive number.\n",
      "70 is a positive number.\n",
      "71 is a positive number.\n",
      "72 is a positive number.\n",
      "73 is a positive number.\n",
      "74 is a positive number.\n",
      "75 is a positive number.\n",
      "76 is a positive number.\n",
      "77 is a positive number.\n",
      "78 is a positive number.\n",
      "79 is a positive number.\n",
      "80 is a positive number.\n",
      "81 is a positive number.\n",
      "82 is a positive number.\n",
      "83 is a positive number.\n",
      "84 is a positive number.\n",
      "85 is a positive number.\n",
      "86 is a positive number.\n",
      "87 is a positive number.\n",
      "88 is a positive number.\n",
      "89 is a positive number.\n",
      "90 is a positive number.\n",
      "91 is a positive number.\n",
      "92 is a positive number.\n",
      "93 is a positive number.\n",
      "94 is a positive number.\n",
      "95 is a positive number.\n",
      "96 is a positive number.\n",
      "97 is a positive number.\n",
      "98 is a positive number.\n",
      "99 is a positive number.\n"
     ]
    }
   ],
   "source": [
    "for i in range(100):\n",
    "    categorize_number(number=i)"
   ]
  },
  {
   "cell_type": "code",
   "execution_count": 11,
   "id": "598164a6-4bfd-473a-a9bc-8836c1df3760",
   "metadata": {},
   "outputs": [
    {
     "name": "stdout",
     "output_type": "stream",
     "text": [
      "The Zen of Python, by Tim Peters\n",
      "\n",
      "Beautiful is better than ugly.\n",
      "Explicit is better than implicit.\n",
      "Simple is better than complex.\n",
      "Complex is better than complicated.\n",
      "Flat is better than nested.\n",
      "Sparse is better than dense.\n",
      "Readability counts.\n",
      "Special cases aren't special enough to break the rules.\n",
      "Although practicality beats purity.\n",
      "Errors should never pass silently.\n",
      "Unless explicitly silenced.\n",
      "In the face of ambiguity, refuse the temptation to guess.\n",
      "There should be one-- and preferably only one --obvious way to do it.\n",
      "Although that way may not be obvious at first unless you're Dutch.\n",
      "Now is better than never.\n",
      "Although never is often better than *right* now.\n",
      "If the implementation is hard to explain, it's a bad idea.\n",
      "If the implementation is easy to explain, it may be a good idea.\n",
      "Namespaces are one honking great idea -- let's do more of those!\n"
     ]
    }
   ],
   "source": [
    "import this"
   ]
  }
 ],
 "metadata": {
  "kernelspec": {
   "display_name": "Python 3 (ipykernel)",
   "language": "python",
   "name": "python3"
  },
  "language_info": {
   "codemirror_mode": {
    "name": "ipython",
    "version": 3
   },
   "file_extension": ".py",
   "mimetype": "text/x-python",
   "name": "python",
   "nbconvert_exporter": "python",
   "pygments_lexer": "ipython3",
   "version": "3.7.11"
  },
  "toc-showtags": false
 },
 "nbformat": 4,
 "nbformat_minor": 5
}
