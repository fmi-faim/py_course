{
 "cells": [
  {
   "cell_type": "markdown",
   "id": "720c8d2c-0951-4a47-87ec-586ad87e1b9d",
   "metadata": {
    "tags": []
   },
   "source": [
    "# The JupyterLab Interface\n",
    "\n",
    "The JupyterLab interface consists of a main work area containing tabs of documents and activities, a collapsible left sidebar, and a menu bar. The left sidebar contains a file browser, the list of running terminals and kernels, the table of contents, and the extension manager.\n",
    "\n",
    "![jupyter_lab_startup_page](figures/jupyter_lab_startup.png)\n",
    "\n",
    "JupyterLab sessions always reside in a workspace. Workspaces contain the state of JupyterLab: the files that are currently open, the layout of the application areas and tabs, etc.\n",
    "\n",
    "Reference: [https://jupyterlab.readthedocs.io/en/latest/user/interface.html](https://jupyterlab.readthedocs.io/en/latest/user/interface.html)"
   ]
  },
  {
   "cell_type": "markdown",
   "id": "3e460b72-3401-4920-9753-fcac52409fd7",
   "metadata": {
    "tags": []
   },
   "source": [
    "# Notebook\n",
    "\n",
    "Currently you are looking at a Jupyter Notebook. A Jupyter Notebook is an interactive environment for writing and running ocde. The notebook is capable of running code in a wide range of languages. However, each notebook is associated with a single kernel. This notebook is associated with the IPython kernel, therefore it runs Python code.\n",
    "\n",
    "Reference: [https://github.com/jupyter/notebook/blob/6.1.x/docs/source/examples/Notebook/Running%20Code.ipynb](https://github.com/jupyter/notebook/blob/6.1.x/docs/source/examples/Notebook/Running%20Code.ipynb)"
   ]
  },
  {
   "cell_type": "markdown",
   "id": "c0be6e2a-c9d1-4b2e-91b2-bfb7ec7cc5cf",
   "metadata": {},
   "source": [
    "## Notebook Cell Types\n",
    "In a Jupyter Notebook we can have text cells and code cells. \n",
    "In text cells we can write markdown ([Markdown cheat sheet](https://www.markdownguide.org/cheat-sheet/)).\n",
    "In code cells we can write program code which is executed by the IPython kernel associated with the notebook.\n",
    "\n",
    "Code cells have brackets `[ ]:` in front of them:\n",
    "* `[ ]:` means that the cell is empty.\n",
    "* `[*]:` means that the cell is currently being executed.\n",
    "* `[1]:` here the number indicates the execution step in the notebook. This execution step is updated everytime the cell is executed.\n",
    "\n",
    "To render a text cell or execute a code cell you can press the run button in the toolbar above or press `Shift-Enter` on your keyboard."
   ]
  },
  {
   "cell_type": "code",
   "execution_count": null,
   "id": "ae4edd18-5132-448f-b268-f31865ba39d2",
   "metadata": {},
   "outputs": [],
   "source": [
    "2 + 2"
   ]
  },
  {
   "cell_type": "code",
   "execution_count": null,
   "id": "ab396cdb-ee60-4d0c-86f3-6756d1173d1b",
   "metadata": {},
   "outputs": [],
   "source": [
    "# If we want to write text in a code cell we have to comment it out with '#'.\n",
    "\n",
    "# Next we asign some variables.\n",
    "a = 2\n",
    "b = 2\n",
    "c = a + b"
   ]
  },
  {
   "cell_type": "code",
   "execution_count": null,
   "id": "819f0f15-8042-40d0-aaf6-bacc8f9ab215",
   "metadata": {},
   "outputs": [],
   "source": [
    "print(\"a is\", a)\n",
    "print(\"b is\", b)\n",
    "print(\"a + b =\", c)"
   ]
  },
  {
   "cell_type": "markdown",
   "id": "ec18a69f-03b4-4f7f-abea-ce8cd43c296f",
   "metadata": {},
   "source": [
    "# Displaying an Image"
   ]
  },
  {
   "cell_type": "code",
   "execution_count": null,
   "id": "8cac21c1-1cab-4308-b1a4-0f13f43b702a",
   "metadata": {},
   "outputs": [],
   "source": [
    "# import packages\n",
    "from tifffile import imread\n",
    "from matplotlib import pyplot as plt"
   ]
  },
  {
   "cell_type": "code",
   "execution_count": null,
   "id": "d6718f17-1bdc-4146-81ba-a3a0e9cb208b",
   "metadata": {},
   "outputs": [],
   "source": [
    "img = imread('imgs/t000.tif')"
   ]
  },
  {
   "cell_type": "code",
   "execution_count": null,
   "id": "2abc84ce-1393-4150-b5ab-85e6dfd681f2",
   "metadata": {},
   "outputs": [],
   "source": [
    "plt.figure(figsize=(10, 10))\n",
    "plt.imshow(img, cmap='gray')"
   ]
  },
  {
   "cell_type": "markdown",
   "id": "e5c03451-a5e1-4bb0-8d0e-344b6d67e144",
   "metadata": {},
   "source": [
    "# Python Basics"
   ]
  },
  {
   "cell_type": "markdown",
   "id": "2494fe72-1d31-4eb1-9f91-ab790463aba8",
   "metadata": {},
   "source": [
    "## If Statement\n",
    "The if statement allows us to branch code and act on different conditions.\n",
    "The statement has the following logic:\n",
    "```\n",
    "if condition_0:\n",
    "    code_0\n",
    "elif condition_1:\n",
    "    code_1\n",
    "else:\n",
    "    code_2\n",
    "```\n",
    "`code_0` is executed if `condition_0` holds true. If `condition_0` is false `condition_1` is evaluated and `code_1` is executed if `condition_1` is true. If both conditions evaluate to false `code_2` is executed. \n",
    "\n",
    "__Note:__ `elif` and `else` are optional.\n"
   ]
  },
  {
   "cell_type": "code",
   "execution_count": null,
   "id": "56367682-b037-470d-96ea-eae883fd0061",
   "metadata": {},
   "outputs": [],
   "source": [
    "# Assign value to number\n",
    "number = 3\n",
    "\n",
    "# Test if the number is negative, zero or positive\n",
    "if number < 0:\n",
    "    print(\"{} is a negative number.\".format(number))\n",
    "elif number == 0:\n",
    "    print(\"The number is zero.\")\n",
    "else:\n",
    "    print(\"{} is a positive number.\".format(number))\n",
    "\n",
    "# The following code is outside of the if statement and always executed.\n",
    "print(\"Done\")"
   ]
  },
  {
   "cell_type": "markdown",
   "id": "db871008-3a43-42ee-9f2c-551b87c4a492",
   "metadata": {},
   "source": [
    "## Functions\n",
    "In Python we can define functions which can be reused in our code. It is good practice to define a function if we want to reuse the same code multiple times!"
   ]
  },
  {
   "cell_type": "code",
   "execution_count": null,
   "id": "f2624b4e-7164-4e1b-9370-5045632e7395",
   "metadata": {},
   "outputs": [],
   "source": [
    "def categorize_number(number):\n",
    "    \"\"\"\n",
    "    Prints to standard output if the number is negative, zero or positive.\n",
    "    \n",
    "    Parameter:\n",
    "    ----------\n",
    "    number: The number to categorize.\n",
    "    \"\"\"\n",
    "    if number < 0:\n",
    "        print(\"{} is a negative number.\".format(number))\n",
    "    elif number == 0:\n",
    "        print(\"The number is zero.\")\n",
    "    else:\n",
    "        print(\"{} is a positive number.\".format(number))"
   ]
  },
  {
   "cell_type": "code",
   "execution_count": null,
   "id": "9a1e138c-f28a-4df6-a55c-f172949c8cfa",
   "metadata": {},
   "outputs": [],
   "source": [
    "categorize_number(number=-2)"
   ]
  },
  {
   "cell_type": "markdown",
   "id": "902ca4c9-9163-4fd7-bb79-f2ad57eb671f",
   "metadata": {},
   "source": [
    "## Lists\n",
    "In python we can easily define a list."
   ]
  },
  {
   "cell_type": "code",
   "execution_count": null,
   "id": "b1ebf4e1-a78f-45aa-ae5e-98d54b92dea6",
   "metadata": {},
   "outputs": [],
   "source": [
    "numbers = [-1, 0, 1, 2]"
   ]
  },
  {
   "cell_type": "code",
   "execution_count": null,
   "id": "a0b36d98-b3fa-456e-8955-08e5242d1f4e",
   "metadata": {},
   "outputs": [],
   "source": [
    "type(numbers)"
   ]
  },
  {
   "cell_type": "markdown",
   "id": "18f4ea33-e018-4fcb-8b2e-84cf9a1a5650",
   "metadata": {},
   "source": [
    "## For Loop\n",
    "If we want to apply some code (e.g. a function) to all elements of a list we can use a for loop."
   ]
  },
  {
   "cell_type": "code",
   "execution_count": null,
   "id": "4df4c680-74f6-4e33-816b-50682502574e",
   "metadata": {},
   "outputs": [],
   "source": [
    "for number in numbers:\n",
    "    print(\"Currently processing number = {}.\".format(number))\n",
    "    categorize_number(number)"
   ]
  },
  {
   "cell_type": "markdown",
   "id": "596eb2fa-82a1-4bac-9ed8-8631bdd8979b",
   "metadata": {},
   "source": [
    "## Range\n",
    "A typical usecase is that we want to get all numbers from 0 up to a given number e.g. 100. Luckely we don't have to type all 100 numbers into a list to iterate over them. We can just use the `range`-function which is part of Python."
   ]
  },
  {
   "cell_type": "code",
   "execution_count": null,
   "id": "1c6cc72e-6d4a-4348-9ae3-631e8a04dd62",
   "metadata": {
    "scrolled": true,
    "tags": []
   },
   "outputs": [],
   "source": [
    "for i in range(100):\n",
    "    categorize_number(number=i)"
   ]
  },
  {
   "cell_type": "code",
   "execution_count": null,
   "id": "598164a6-4bfd-473a-a9bc-8836c1df3760",
   "metadata": {},
   "outputs": [],
   "source": [
    "import this"
   ]
  }
 ],
 "metadata": {
  "kernelspec": {
   "display_name": "Python 3 (ipykernel)",
   "language": "python",
   "name": "python3"
  },
  "language_info": {
   "codemirror_mode": {
    "name": "ipython",
    "version": 3
   },
   "file_extension": ".py",
   "mimetype": "text/x-python",
   "name": "python",
   "nbconvert_exporter": "python",
   "pygments_lexer": "ipython3",
   "version": "3.7.11"
  },
  "toc-showtags": false
 },
 "nbformat": 4,
 "nbformat_minor": 5
}
